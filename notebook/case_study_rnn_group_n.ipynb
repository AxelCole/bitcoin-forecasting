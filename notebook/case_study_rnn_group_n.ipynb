{
 "cells": [
  {
   "cell_type": "markdown",
   "metadata": {},
   "source": [
    "# Your mission\n",
    "\n",
    "This time, you will build a basic Neural Network model to predict Bitcoin price based on historical Data.\n",
    "This notebook helps you to train a model but you can use it however you want."
   ]
  },
  {
   "cell_type": "code",
   "execution_count": null,
   "metadata": {},
   "outputs": [],
   "source": [
    "import os\n",
    "\n",
    "import numpy as np\n",
    "import pandas as pd\n",
    "\n",
    "from matplotlib import pyplot as plt\n",
    "\n",
    "from keras.models import Sequential\n",
    "from keras.layers import Dense, LSTM\n",
    "from sklearn.preprocessing import MinMaxScaler\n",
    "\n",
    "import helper_functions as hf\n",
    "\n",
    "CURDIR = os.path.dirname(os.getcwd())\n",
    "DATADIR = os.path.join(CURDIR,  \"data\")\n",
    "FIGDIR = os.path.join(CURDIR,  \"figure\")\n",
    "%matplotlib inline"
   ]
  },
  {
   "cell_type": "markdown",
   "metadata": {},
   "source": [
    "# Import Data\n",
    "Our Data come from https://blockchain.info/.\n",
    "\n",
    "Here, we load data into a Pandas DataFrame"
   ]
  },
  {
   "cell_type": "code",
   "execution_count": null,
   "metadata": {},
   "outputs": [],
   "source": [
    "df_blockchain = pd.read_csv(os.path.join(DATADIR, \"df_blockchain.csv\"), delimiter=\";\")"
   ]
  },
  {
   "cell_type": "code",
   "execution_count": null,
   "metadata": {},
   "outputs": [],
   "source": [
    "df_blockchain.head()"
   ]
  },
  {
   "cell_type": "markdown",
   "metadata": {},
   "source": [
    "# Explore Dataset\n",
    "\n",
    "We already Explore dataset before, but you can draw other plots to analyse data if you want.\n",
    "\n",
    "Idea : you can use pandas_profiling \n",
    "\n",
    "```python\n",
    "from pandas_profiling import ProfileReport\n",
    "ProfileReport(df)\n",
    "```"
   ]
  },
  {
   "cell_type": "code",
   "execution_count": null,
   "metadata": {},
   "outputs": [],
   "source": [
    "# Your Code Here"
   ]
  },
  {
   "cell_type": "code",
   "execution_count": null,
   "metadata": {},
   "outputs": [],
   "source": [
    "# get columns (You can add more columns to analyse results)\n",
    "columns = [\"market-price\"]\n",
    "dataset = df_blockchain[columns]"
   ]
  },
  {
   "cell_type": "markdown",
   "metadata": {},
   "source": [
    "# Data scaling\n",
    "\n",
    "Here we scale price between 0 and 1, this well help the optimization algorithm converge faster.\n",
    "\n",
    "See the following figure (source : Andrew Ng https://www.andrewng.org ) :\n",
    "\n",
    "![alt text](../data/feature-scaling.png \"Title\")"
   ]
  },
  {
   "cell_type": "code",
   "execution_count": null,
   "metadata": {},
   "outputs": [],
   "source": [
    "scaler = MinMaxScaler(feature_range=(0, 1))\n",
    "dataset = scaler.fit_transform(dataset.values.reshape(-1,len(columns)))"
   ]
  },
  {
   "cell_type": "code",
   "execution_count": null,
   "metadata": {},
   "outputs": [],
   "source": [
    "dataset.shape"
   ]
  },
  {
   "cell_type": "markdown",
   "metadata": {},
   "source": [
    "# Process data (Making sequences)\n",
    "\n",
    "here we process data before training.\n",
    "\n",
    "LSTM layer as an input layer expects the data to be 3 dimensions, we will use 'process_data' function to split data into sequences of a fixed length (rnn_size).\n",
    "\n",
    "The neural network is expecting to have an input's shap of [batch_size, rnn_size, nb_features]"
   ]
  },
  {
   "cell_type": "code",
   "execution_count": null,
   "metadata": {},
   "outputs": [],
   "source": [
    "def process_data(data, rnn_size=rnn_size, target_id=0, columns_size=len(columns)):\n",
    "    X = []\n",
    "    y = []\n",
    "    for i in range(len(data)-rnn_size):\n",
    "        X.append(data[i:i+rnn_size,:])\n",
    "        y.append(data[i+rnn_size,0])\n",
    "    return np.array(X).astype(np.float32).reshape((-1,rnn_size,columns_size)), np.array(y).astype(np.float32)"
   ]
  },
  {
   "cell_type": "code",
   "execution_count": null,
   "metadata": {},
   "outputs": [],
   "source": [
    "# process data for RNN\n",
    "X_train, y_train = process_data(data_train)\n",
    "X_val, y_val = process_data(data_valid)\n",
    "X_test, y_test = process_data(data_test)"
   ]
  },
  {
   "cell_type": "code",
   "execution_count": null,
   "metadata": {},
   "outputs": [],
   "source": [
    "X_train.shape"
   ]
  },
  {
   "cell_type": "code",
   "execution_count": null,
   "metadata": {},
   "outputs": [],
   "source": [
    "X_val.shape"
   ]
  },
  {
   "cell_type": "code",
   "execution_count": null,
   "metadata": {},
   "outputs": [],
   "source": [
    "X_test.shape"
   ]
  },
  {
   "cell_type": "markdown",
   "metadata": {},
   "source": [
    "# Deep Learning Model\n",
    "\n",
    "Here we initialize the model using Keras.\n",
    "\n",
    "Here we propose to code a basic neural network LSTM + Dense, but you are free to use any architecture."
   ]
  },
  {
   "cell_type": "code",
   "execution_count": null,
   "metadata": {},
   "outputs": [],
   "source": [
    "# neural network model\n",
    "\n",
    "# Initialising the model\n",
    "regressor = Sequential()\n",
    "\n",
    "# Adding the input/LSTM layer \n",
    "#Your Code Here\n",
    "regressor.add()\n",
    "\n",
    "# Adding the output layer\n",
    "#Your Code Here\n",
    "regressor.add()\n",
    "\n",
    "#Compiling the Recurrent Neural Network with adam optimier and 'mean_absolute_error' as loss function\n",
    "regressor.compile()"
   ]
  },
  {
   "cell_type": "code",
   "execution_count": null,
   "metadata": {},
   "outputs": [],
   "source": [
    "#Fitting the Recurrent Neural Network\n",
    "regressor.fit(X_train, y_train, validation_data = (X_val, y_val), batch_size = 32, epochs = 50)"
   ]
  },
  {
   "cell_type": "markdown",
   "metadata": {},
   "source": [
    "# Deep Learning Model\n",
    "\n",
    "Here we initialize the model using Keras.\n",
    "\n",
    "Here we propose to code a basic neural network LSTM + Dense, but you are free to use any architecture."
   ]
  },
  {
   "cell_type": "code",
   "execution_count": null,
   "metadata": {},
   "outputs": [],
   "source": [
    "# neural network model\n",
    "\n",
    "# Initialising the model\n",
    "regressor = Sequential()\n",
    "\n",
    "# Adding the input/LSTM layer \n",
    "#Your Code Here\n",
    "regressor.add()\n",
    "\n",
    "# Adding the output layer\n",
    "#Your Code Here\n",
    "regressor.add()\n",
    "\n",
    "#Compiling the Recurrent Neural Network with adam optimier and 'mean_absolute_error' as loss function\n",
    "regressor.compile()"
   ]
  },
  {
   "cell_type": "markdown",
   "metadata": {},
   "source": [
    "# Evaluation"
   ]
  },
  {
   "cell_type": "code",
   "execution_count": null,
   "metadata": {},
   "outputs": [],
   "source": [
    "# compute prediction for test\n",
    "y_pred = "
   ]
  },
  {
   "cell_type": "code",
   "execution_count": null,
   "metadata": {},
   "outputs": [],
   "source": [
    "# compute rmse for test\n",
    "y_pred_inverse = scaler.inverse_transform(np.concatenate([y_pred, data_test[-len(y_pred):,1:]], axis=1))\n",
    "y_test_inverse = scaler.inverse_transform(data_test.reshape(-1,len(columns)))[rnn_size:]\n",
    "\n",
    "rmse_score = \n",
    "print(\"rmse score : \", rmse_score)"
   ]
  },
  {
   "cell_type": "code",
   "execution_count": null,
   "metadata": {},
   "outputs": [],
   "source": [
    "#Graphs for predicted values\n",
    "plt.plot(y_test_inverse[rnn_size:,0], color = 'red', label = 'true BTC price')\n",
    "plt.plot(y_pred_inverse[:,0], color = 'blue', label = 'predicted BTC price')\n",
    "plt.title('BTC price Prediction')\n",
    "plt.xlabel('Days')\n",
    "plt.ylabel('BTC price')\n",
    "plt.legend()\n",
    "plt.show()"
   ]
  },
  {
   "cell_type": "code",
   "execution_count": null,
   "metadata": {},
   "outputs": [],
   "source": [
    "# If you get this far, you can : \n",
    "- Test other neural network models\n",
    "- Test other optimizers\n",
    "- Compare result between Arima and RNN models\n",
    "- Find a way to choose most important variables\n",
    "- ..."
   ]
  }
 ],
 "metadata": {
  "kernelspec": {
   "display_name": "venv",
   "language": "python",
   "name": "venv"
  },
  "language_info": {
   "codemirror_mode": {
    "name": "ipython",
    "version": 3
   },
   "file_extension": ".py",
   "mimetype": "text/x-python",
   "name": "python",
   "nbconvert_exporter": "python",
   "pygments_lexer": "ipython3",
   "version": "3.7.4"
  }
 },
 "nbformat": 4,
 "nbformat_minor": 2
}
