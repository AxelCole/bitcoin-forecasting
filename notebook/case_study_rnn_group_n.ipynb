{
 "cells": [
  {
   "cell_type": "markdown",
   "metadata": {
    "application/vnd.databricks.v1+cell": {
     "inputWidgets": {},
     "nuid": "2d923511-00c9-47ff-841e-64935e9c41e1",
     "showTitle": false,
     "title": ""
    }
   },
   "source": [
    "# Bitcoin Prediction using Deep Learning\n",
    "\n",
    "This time, you will build a basic Neural Network model to predict Bitcoin price based on historical Data.\n",
    "This notebook helps you to train a model but you can use it however you want."
   ]
  },
  {
   "cell_type": "code",
   "execution_count": null,
   "metadata": {
    "application/vnd.databricks.v1+cell": {
     "inputWidgets": {},
     "nuid": "dcca5a38-d51c-4bf6-82b4-a2264949f16a",
     "showTitle": false,
     "title": ""
    }
   },
   "outputs": [],
   "source": [
    "\n",
    "import os\n",
    "\n",
    "import numpy as np\n",
    "import pandas as pd\n",
    "\n",
    "from matplotlib import pyplot as plt\n",
    "from tensorflow import keras\n",
    "from tensorflow.keras import layers\n",
    "\n",
    "from sklearn.preprocessing import MinMaxScaler\n",
    "\n",
    "import helper_functions as hf\n",
    "\n",
    "CURDIR = os.path.dirname(os.getcwd())\n",
    "DATADIR = os.path.join(CURDIR,  \"data\")\n",
    "FIGDIR = os.path.join(CURDIR,  \"figure\")\n",
    "%matplotlib inline"
   ]
  },
  {
   "cell_type": "markdown",
   "metadata": {
    "application/vnd.databricks.v1+cell": {
     "inputWidgets": {},
     "nuid": "d99ae8fb-f679-4b74-9b2b-54facd666a81",
     "showTitle": false,
     "title": ""
    }
   },
   "source": [
    "# Import Data\n",
    "Our Data come from https://blockchain.info/.\n",
    "\n",
    "Here, we load data into a Pandas DataFrame"
   ]
  },
  {
   "cell_type": "code",
   "execution_count": null,
   "metadata": {
    "application/vnd.databricks.v1+cell": {
     "inputWidgets": {},
     "nuid": "b1dd7725-d08b-477d-a5d0-0fa210b411bc",
     "showTitle": false,
     "title": ""
    }
   },
   "outputs": [],
   "source": [
    "df_blockchain = pd.read_csv(os.path.join(DATADIR, \"df_blockchain.csv\"), delimiter=\",\")"
   ]
  },
  {
   "cell_type": "code",
   "execution_count": null,
   "metadata": {
    "application/vnd.databricks.v1+cell": {
     "inputWidgets": {},
     "nuid": "e3cf49b8-1239-4d94-a951-ba912f09861c",
     "showTitle": false,
     "title": ""
    }
   },
   "outputs": [],
   "source": [
    "df_blockchain.head()"
   ]
  },
  {
   "cell_type": "markdown",
   "metadata": {
    "application/vnd.databricks.v1+cell": {
     "inputWidgets": {},
     "nuid": "08350022-3527-4c51-9261-97f26fde3619",
     "showTitle": false,
     "title": ""
    }
   },
   "source": [
    "# Explore Dataset\n",
    "\n",
    "We already explored dataset before, but you can draw other plots to analyse data if you want.\n",
    "\n",
    "Idea : you can use pandas_profiling \n",
    "\n",
    "```python\n",
    "from pandas_profiling import ProfileReport\n",
    "ProfileReport(df)\n",
    "```"
   ]
  },
  {
   "cell_type": "code",
   "execution_count": null,
   "metadata": {
    "application/vnd.databricks.v1+cell": {
     "inputWidgets": {},
     "nuid": "cefeefeb-e058-4dfd-acca-a9e49fa13181",
     "showTitle": false,
     "title": ""
    }
   },
   "outputs": [],
   "source": [
    "# Your Code Here"
   ]
  },
  {
   "cell_type": "code",
   "execution_count": null,
   "metadata": {
    "application/vnd.databricks.v1+cell": {
     "inputWidgets": {},
     "nuid": "3667a62d-4049-4cf9-af24-5eddb67e7c09",
     "showTitle": false,
     "title": ""
    }
   },
   "outputs": [],
   "source": [
    "# get columns (You can add more columns to analyse results)\n",
    "columns = [\"market-price\"]\n",
    "dataset = df_blockchain[columns]"
   ]
  },
  {
   "cell_type": "markdown",
   "metadata": {
    "application/vnd.databricks.v1+cell": {
     "inputWidgets": {},
     "nuid": "8ec0db25-2468-4d50-ba88-a0bf60dad26b",
     "showTitle": false,
     "title": ""
    }
   },
   "source": [
    "# Data scaling\n",
    "\n",
    "Here we scale the price between 0 and 1, this will help the optimization algorithm converge faster.\n",
    "\n",
    "See the following figure (source : Andrew Ng https://www.andrewng.org ) :\n",
    "\n",
    "![alt text](../data/feature-scaling.png \"Title\")"
   ]
  },
  {
   "cell_type": "code",
   "execution_count": null,
   "metadata": {
    "application/vnd.databricks.v1+cell": {
     "inputWidgets": {},
     "nuid": "4df7ff9f-5f14-4da4-9e3d-b3f3304d4bde",
     "showTitle": false,
     "title": ""
    }
   },
   "outputs": [],
   "source": [
    "scaler = MinMaxScaler(feature_range=(0, 1))\n",
    "dataset = scaler.fit_transform(dataset.values.reshape(-1,len(columns)))"
   ]
  },
  {
   "cell_type": "code",
   "execution_count": null,
   "metadata": {
    "application/vnd.databricks.v1+cell": {
     "inputWidgets": {},
     "nuid": "d5c65abe-2e88-4e4f-b5ed-c9608475bd7b",
     "showTitle": false,
     "title": ""
    }
   },
   "outputs": [],
   "source": [
    "dataset.shape"
   ]
  },
  {
   "cell_type": "markdown",
   "metadata": {
    "application/vnd.databricks.v1+cell": {
     "inputWidgets": {},
     "nuid": "b74b3790-cf15-4f84-a74c-9ec5cc66993c",
     "showTitle": false,
     "title": ""
    }
   },
   "source": [
    "# Process data (Making sequences)\n",
    "\n",
    "here we split and process data before training.\n",
    "\n",
    "LSTM layer as an input layer expects the data to be 3 dimensions, we will use 'process_data' function to split data into sequences of a fixed length (rnn_size).\n",
    "\n",
    "The neural network is expecting to have an input's shap of [batch_size, rnn_size, nb_features]"
   ]
  },
  {
   "cell_type": "code",
   "execution_count": null,
   "metadata": {
    "application/vnd.databricks.v1+cell": {
     "inputWidgets": {},
     "nuid": "eab8ecfd-c5cb-4d91-b320-73dbe947fc45",
     "showTitle": false,
     "title": ""
    }
   },
   "outputs": [],
   "source": [
    "# split datatest into data_train, data_valid and data_test\n",
    "\n",
    "# your code here"
   ]
  },
  {
   "cell_type": "code",
   "execution_count": null,
   "metadata": {
    "application/vnd.databricks.v1+cell": {
     "inputWidgets": {},
     "nuid": "2f8394d7-cfad-477d-80c2-0066e5fb497e",
     "showTitle": false,
     "title": ""
    }
   },
   "outputs": [],
   "source": [
    "def process_data(data, rnn_size=3, target_id=0, columns_size=len(columns)):\n",
    "    X = []\n",
    "    y = []\n",
    "    for i in range(len(data)-rnn_size):\n",
    "        X.append(data[i:i+rnn_size,:])\n",
    "        y.append(data[i+rnn_size,0])\n",
    "    return np.array(X).astype(np.float32).reshape((-1,rnn_size,columns_size)), np.array(y).astype(np.float32)"
   ]
  },
  {
   "cell_type": "code",
   "execution_count": null,
   "metadata": {
    "application/vnd.databricks.v1+cell": {
     "inputWidgets": {},
     "nuid": "fc2c7dca-1312-497b-bbd8-16453b64bea0",
     "showTitle": false,
     "title": ""
    }
   },
   "outputs": [],
   "source": [
    "# process data for RNN\n",
    "X_train, y_train = process_data(data_train)\n",
    "X_val, y_val = process_data(data_valid)\n",
    "X_test, y_test = process_data(data_test)"
   ]
  },
  {
   "cell_type": "code",
   "execution_count": null,
   "metadata": {
    "application/vnd.databricks.v1+cell": {
     "inputWidgets": {},
     "nuid": "4a266b27-b5e1-4426-854f-42147adfd8f8",
     "showTitle": false,
     "title": ""
    }
   },
   "outputs": [],
   "source": [
    "X_train.shape"
   ]
  },
  {
   "cell_type": "code",
   "execution_count": null,
   "metadata": {
    "application/vnd.databricks.v1+cell": {
     "inputWidgets": {},
     "nuid": "4acf7c9c-29e0-45db-8b15-a1b7be2b41b3",
     "showTitle": false,
     "title": ""
    }
   },
   "outputs": [],
   "source": [
    "X_val.shape"
   ]
  },
  {
   "cell_type": "code",
   "execution_count": null,
   "metadata": {
    "application/vnd.databricks.v1+cell": {
     "inputWidgets": {},
     "nuid": "dad477a5-9062-48aa-bac5-de48a8ce18b7",
     "showTitle": false,
     "title": ""
    }
   },
   "outputs": [],
   "source": [
    "X_test.shape"
   ]
  },
  {
   "cell_type": "markdown",
   "metadata": {
    "application/vnd.databricks.v1+cell": {
     "inputWidgets": {},
     "nuid": "af13f9a7-4de8-4212-afc0-f822f2ad1a6f",
     "showTitle": false,
     "title": ""
    }
   },
   "source": [
    "# Deep Learning Model\n",
    "\n",
    "Here we initialize the model using Keras.\n",
    "\n",
    "Here we propose to code a basic neural network LSTM + Dense, but you are free to use any architecture."
   ]
  },
  {
   "cell_type": "code",
   "execution_count": null,
   "metadata": {
    "application/vnd.databricks.v1+cell": {
     "inputWidgets": {},
     "nuid": "cdf9c1ed-267b-4f1c-91b4-36b51feaaff6",
     "showTitle": false,
     "title": ""
    }
   },
   "outputs": [],
   "source": [
    "# neural network model\n",
    "\n",
    "# Build the model\n",
    "regressor = Sequential()\n",
    "\n",
    "#Compiling the Recurrent Neural Network with adam optimier and 'mean_absolute_error' as loss function\n",
    "regressor.compile()"
   ]
  },
  {
   "cell_type": "code",
   "execution_count": null,
   "metadata": {
    "application/vnd.databricks.v1+cell": {
     "inputWidgets": {},
     "nuid": "11557d01-39ce-4924-81b5-9cb78129a2ae",
     "showTitle": false,
     "title": ""
    }
   },
   "outputs": [],
   "source": [
    "#Fitting the Recurrent Neural Network\n",
    "regressor.fit(X_train, y_train, validation_data = (X_val, y_val), batch_size = 32, epochs = 50)"
   ]
  },
  {
   "cell_type": "markdown",
   "metadata": {
    "application/vnd.databricks.v1+cell": {
     "inputWidgets": {},
     "nuid": "7bec28b3-6836-4b5a-a6ee-fa7ddee3bd90",
     "showTitle": false,
     "title": ""
    }
   },
   "source": [
    "# Deep Learning Model\n",
    "\n",
    "Here we initialize the model using Keras.\n",
    "\n",
    "Here we propose to code a basic neural network LSTM + Dense, but you are free to use any architecture."
   ]
  },
  {
   "cell_type": "code",
   "execution_count": null,
   "metadata": {
    "application/vnd.databricks.v1+cell": {
     "inputWidgets": {},
     "nuid": "906f46c9-0fd2-4120-b911-63fa8a1daec9",
     "showTitle": false,
     "title": ""
    }
   },
   "outputs": [],
   "source": [
    "# neural network model\n",
    "\n",
    "# Build the model\n",
    "regressor = keras.Sequential()\n",
    "\n",
    "#Compiling the Recurrent Neural Network with adam optimier and 'mean_absolute_error' as loss function\n",
    "regressor.compile()"
   ]
  },
  {
   "cell_type": "markdown",
   "metadata": {
    "application/vnd.databricks.v1+cell": {
     "inputWidgets": {},
     "nuid": "dc040557-528b-4833-8d5b-089d236d9d77",
     "showTitle": false,
     "title": ""
    }
   },
   "source": [
    "# Evaluation"
   ]
  },
  {
   "cell_type": "code",
   "execution_count": null,
   "metadata": {
    "application/vnd.databricks.v1+cell": {
     "inputWidgets": {},
     "nuid": "42718803-0d60-44ec-98d9-3bd3c7353b8c",
     "showTitle": false,
     "title": ""
    }
   },
   "outputs": [],
   "source": [
    "# compute prediction for test\n",
    "y_pred = "
   ]
  },
  {
   "cell_type": "code",
   "execution_count": null,
   "metadata": {
    "application/vnd.databricks.v1+cell": {
     "inputWidgets": {},
     "nuid": "017123f7-02d7-4443-9dfa-52177e5a5163",
     "showTitle": false,
     "title": ""
    }
   },
   "outputs": [],
   "source": [
    "# compute rmse for test\n",
    "y_pred_inverse = scaler.inverse_transform(np.concatenate([y_pred, data_test[-len(y_pred):,1:]], axis=1))\n",
    "y_test_inverse = scaler.inverse_transform(data_test.reshape(-1,len(columns)))[rnn_size:]\n",
    "\n",
    "rmse_score = \n",
    "print(\"rmse score : \", rmse_score)"
   ]
  },
  {
   "cell_type": "code",
   "execution_count": null,
   "metadata": {
    "application/vnd.databricks.v1+cell": {
     "inputWidgets": {},
     "nuid": "3a2089b8-52bd-406b-8430-b5509fa0c742",
     "showTitle": false,
     "title": ""
    }
   },
   "outputs": [],
   "source": [
    "#Graphs for predicted values\n",
    "plt.plot(y_test_inverse[rnn_size:,0], color = 'red', label = 'true BTC price')\n",
    "plt.plot(y_pred_inverse[:,0], color = 'blue', label = 'predicted BTC price')\n",
    "plt.title('BTC price Prediction')\n",
    "plt.xlabel('Days')\n",
    "plt.ylabel('BTC price')\n",
    "plt.legend()\n",
    "plt.show()"
   ]
  },
  {
   "cell_type": "code",
   "execution_count": null,
   "metadata": {
    "application/vnd.databricks.v1+cell": {
     "inputWidgets": {},
     "nuid": "393be024-3cbf-4397-a04b-ae8faf79e229",
     "showTitle": false,
     "title": ""
    }
   },
   "outputs": [],
   "source": [
    "# If you get this far, you can : \n",
    "- Test other neural network models\n",
    "- Test other optimizers\n",
    "- Compare results between Arima and RNN models\n",
    "- Find a way to choose most important variables\n",
    "- ..."
   ]
  }
 ],
 "metadata": {
  "application/vnd.databricks.v1+notebook": {
   "dashboards": [],
   "language": "python",
   "notebookMetadata": {
    "pythonIndentUnit": 2
   },
   "notebookName": "case_study_rnn_group_n",
   "notebookOrigID": 4256609446685350,
   "widgets": {}
  },
  "kernelspec": {
   "display_name": "mds-env",
   "language": "python",
   "name": "mds-env"
  },
  "language_info": {
   "codemirror_mode": {
    "name": "ipython",
    "version": 3
   },
   "file_extension": ".py",
   "mimetype": "text/x-python",
   "name": "python",
   "nbconvert_exporter": "python",
   "pygments_lexer": "ipython3",
   "version": "3.7.10"
  }
 },
 "nbformat": 4,
 "nbformat_minor": 1
}
