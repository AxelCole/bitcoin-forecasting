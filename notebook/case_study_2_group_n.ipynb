{
 "cells": [
  {
   "cell_type": "markdown",
   "metadata": {},
   "source": [
    "This time, you will build a basic Neural Network model to predict Bitcoin price based on historical Data.\n",
    "This notebook helps you to train a model but you can use it however you want."
   ]
  },
  {
   "cell_type": "code",
   "execution_count": null,
   "metadata": {},
   "outputs": [],
   "source": [
    "import os\n",
    "\n",
    "import numpy as np\n",
    "import pandas as pd\n",
    "\n",
    "from matplotlib import pyplot as plt\n",
    "\n",
    "from keras.models import Sequential\n",
    "from keras.layers import Dense, LSTM\n",
    "from sklearn.preprocessing import MinMaxScaler\n",
    "\n",
    "CURDIR = os.path.dirname(os.getcwd())\n",
    "DATADIR = os.path.join(CURDIR,  \"data\")\n",
    "FIGDIR = os.path.join(CURDIR,  \"figure\")\n",
    "%matplotlib inline"
   ]
  },
  {
   "cell_type": "markdown",
   "metadata": {},
   "source": [
    "# Import Data\n",
    "Our Data come from https://blockchain.info/.\n",
    "\n",
    "Here, we load data into a Pandas DataFrame"
   ]
  },
  {
   "cell_type": "code",
   "execution_count": 98,
   "metadata": {},
   "outputs": [],
   "source": [
    "df_blockchain = pd.read_csv(os.path.join(DATADIR, \"df_blockchain.csv\"), delimiter=\";\")"
   ]
  },
  {
   "cell_type": "code",
   "execution_count": 100,
   "metadata": {},
   "outputs": [
    {
     "data": {
      "text/html": [
       "<div>\n",
       "<style scoped>\n",
       "    .dataframe tbody tr th:only-of-type {\n",
       "        vertical-align: middle;\n",
       "    }\n",
       "\n",
       "    .dataframe tbody tr th {\n",
       "        vertical-align: top;\n",
       "    }\n",
       "\n",
       "    .dataframe thead th {\n",
       "        text-align: right;\n",
       "    }\n",
       "</style>\n",
       "<table border=\"1\" class=\"dataframe\">\n",
       "  <thead>\n",
       "    <tr style=\"text-align: right;\">\n",
       "      <th></th>\n",
       "      <th>Date</th>\n",
       "      <th>market-price</th>\n",
       "      <th>n-transactions-per-block</th>\n",
       "      <th>median-confirmation-time</th>\n",
       "      <th>hash-rate</th>\n",
       "      <th>difficulty</th>\n",
       "      <th>miners-revenue</th>\n",
       "      <th>trade-volume</th>\n",
       "      <th>blocks-size</th>\n",
       "      <th>avg-block-size</th>\n",
       "      <th>...</th>\n",
       "      <th>cost-per-transaction</th>\n",
       "      <th>n-unique-addresses</th>\n",
       "      <th>n-transactions</th>\n",
       "      <th>n-transactions-total</th>\n",
       "      <th>n-transactions-excluding-popular</th>\n",
       "      <th>output-volume</th>\n",
       "      <th>estimated-transaction-volume</th>\n",
       "      <th>estimated-transaction-volume-usd</th>\n",
       "      <th>total-bitcoins</th>\n",
       "      <th>market-cap</th>\n",
       "    </tr>\n",
       "  </thead>\n",
       "  <tbody>\n",
       "    <tr>\n",
       "      <th>0</th>\n",
       "      <td>2011-09-13</td>\n",
       "      <td>6.88</td>\n",
       "      <td>45.908451</td>\n",
       "      <td>0.0</td>\n",
       "      <td>12.018816</td>\n",
       "      <td>1.777774e+06</td>\n",
       "      <td>52318.011503</td>\n",
       "      <td>0.0</td>\n",
       "      <td>592.190091</td>\n",
       "      <td>0.019009</td>\n",
       "      <td>...</td>\n",
       "      <td>7.666766</td>\n",
       "      <td>12622.0</td>\n",
       "      <td>6519.0</td>\n",
       "      <td>1497195.0</td>\n",
       "      <td>6519.0</td>\n",
       "      <td>358543.612114</td>\n",
       "      <td>58615.641320</td>\n",
       "      <td>403275.612279</td>\n",
       "      <td>7.257416e+06</td>\n",
       "      <td>5.022014e+07</td>\n",
       "    </tr>\n",
       "    <tr>\n",
       "      <th>1</th>\n",
       "      <td>2011-09-14</td>\n",
       "      <td>6.19</td>\n",
       "      <td>42.465753</td>\n",
       "      <td>0.0</td>\n",
       "      <td>13.263925</td>\n",
       "      <td>1.755425e+06</td>\n",
       "      <td>48306.468911</td>\n",
       "      <td>0.0</td>\n",
       "      <td>594.907367</td>\n",
       "      <td>0.018007</td>\n",
       "      <td>...</td>\n",
       "      <td>7.369408</td>\n",
       "      <td>12408.0</td>\n",
       "      <td>6200.0</td>\n",
       "      <td>1503780.0</td>\n",
       "      <td>6200.0</td>\n",
       "      <td>302619.024544</td>\n",
       "      <td>74521.484625</td>\n",
       "      <td>461287.989830</td>\n",
       "      <td>7.264662e+06</td>\n",
       "      <td>4.540930e+07</td>\n",
       "    </tr>\n",
       "    <tr>\n",
       "      <th>2</th>\n",
       "      <td>2011-09-15</td>\n",
       "      <td>5.92</td>\n",
       "      <td>41.500000</td>\n",
       "      <td>0.0</td>\n",
       "      <td>12.914875</td>\n",
       "      <td>1.755425e+06</td>\n",
       "      <td>60431.444952</td>\n",
       "      <td>0.0</td>\n",
       "      <td>597.554226</td>\n",
       "      <td>0.018240</td>\n",
       "      <td>...</td>\n",
       "      <td>7.333913</td>\n",
       "      <td>12988.0</td>\n",
       "      <td>6474.0</td>\n",
       "      <td>1509972.0</td>\n",
       "      <td>6474.0</td>\n",
       "      <td>299226.130646</td>\n",
       "      <td>79422.402932</td>\n",
       "      <td>470180.625359</td>\n",
       "      <td>7.272284e+06</td>\n",
       "      <td>4.322228e+07</td>\n",
       "    </tr>\n",
       "    <tr>\n",
       "      <th>3</th>\n",
       "      <td>2011-09-16</td>\n",
       "      <td>5.58</td>\n",
       "      <td>52.176471</td>\n",
       "      <td>0.0</td>\n",
       "      <td>10.995096</td>\n",
       "      <td>1.755425e+06</td>\n",
       "      <td>34345.021913</td>\n",
       "      <td>0.0</td>\n",
       "      <td>600.362512</td>\n",
       "      <td>0.022136</td>\n",
       "      <td>...</td>\n",
       "      <td>5.466341</td>\n",
       "      <td>12059.0</td>\n",
       "      <td>6209.0</td>\n",
       "      <td>1516381.0</td>\n",
       "      <td>6209.0</td>\n",
       "      <td>674606.861338</td>\n",
       "      <td>82696.853247</td>\n",
       "      <td>461448.441118</td>\n",
       "      <td>7.279040e+06</td>\n",
       "      <td>4.088136e+07</td>\n",
       "    </tr>\n",
       "    <tr>\n",
       "      <th>4</th>\n",
       "      <td>2011-09-17</td>\n",
       "      <td>5.18</td>\n",
       "      <td>40.701493</td>\n",
       "      <td>0.0</td>\n",
       "      <td>10.733308</td>\n",
       "      <td>1.755425e+06</td>\n",
       "      <td>36805.913687</td>\n",
       "      <td>0.0</td>\n",
       "      <td>602.995510</td>\n",
       "      <td>0.017116</td>\n",
       "      <td>...</td>\n",
       "      <td>6.489054</td>\n",
       "      <td>10988.0</td>\n",
       "      <td>5454.0</td>\n",
       "      <td>1522600.0</td>\n",
       "      <td>5454.0</td>\n",
       "      <td>354198.945778</td>\n",
       "      <td>68238.166521</td>\n",
       "      <td>353473.702578</td>\n",
       "      <td>7.285375e+06</td>\n",
       "      <td>3.801833e+07</td>\n",
       "    </tr>\n",
       "  </tbody>\n",
       "</table>\n",
       "<p>5 rows × 23 columns</p>\n",
       "</div>"
      ],
      "text/plain": [
       "         Date  market-price  n-transactions-per-block  \\\n",
       "0  2011-09-13          6.88                 45.908451   \n",
       "1  2011-09-14          6.19                 42.465753   \n",
       "2  2011-09-15          5.92                 41.500000   \n",
       "3  2011-09-16          5.58                 52.176471   \n",
       "4  2011-09-17          5.18                 40.701493   \n",
       "\n",
       "   median-confirmation-time  hash-rate    difficulty  miners-revenue  \\\n",
       "0                       0.0  12.018816  1.777774e+06    52318.011503   \n",
       "1                       0.0  13.263925  1.755425e+06    48306.468911   \n",
       "2                       0.0  12.914875  1.755425e+06    60431.444952   \n",
       "3                       0.0  10.995096  1.755425e+06    34345.021913   \n",
       "4                       0.0  10.733308  1.755425e+06    36805.913687   \n",
       "\n",
       "   trade-volume  blocks-size  avg-block-size  ...  cost-per-transaction  \\\n",
       "0           0.0   592.190091        0.019009  ...              7.666766   \n",
       "1           0.0   594.907367        0.018007  ...              7.369408   \n",
       "2           0.0   597.554226        0.018240  ...              7.333913   \n",
       "3           0.0   600.362512        0.022136  ...              5.466341   \n",
       "4           0.0   602.995510        0.017116  ...              6.489054   \n",
       "\n",
       "   n-unique-addresses  n-transactions  n-transactions-total  \\\n",
       "0             12622.0          6519.0             1497195.0   \n",
       "1             12408.0          6200.0             1503780.0   \n",
       "2             12988.0          6474.0             1509972.0   \n",
       "3             12059.0          6209.0             1516381.0   \n",
       "4             10988.0          5454.0             1522600.0   \n",
       "\n",
       "   n-transactions-excluding-popular  output-volume  \\\n",
       "0                            6519.0  358543.612114   \n",
       "1                            6200.0  302619.024544   \n",
       "2                            6474.0  299226.130646   \n",
       "3                            6209.0  674606.861338   \n",
       "4                            5454.0  354198.945778   \n",
       "\n",
       "   estimated-transaction-volume  estimated-transaction-volume-usd  \\\n",
       "0                  58615.641320                     403275.612279   \n",
       "1                  74521.484625                     461287.989830   \n",
       "2                  79422.402932                     470180.625359   \n",
       "3                  82696.853247                     461448.441118   \n",
       "4                  68238.166521                     353473.702578   \n",
       "\n",
       "   total-bitcoins    market-cap  \n",
       "0    7.257416e+06  5.022014e+07  \n",
       "1    7.264662e+06  4.540930e+07  \n",
       "2    7.272284e+06  4.322228e+07  \n",
       "3    7.279040e+06  4.088136e+07  \n",
       "4    7.285375e+06  3.801833e+07  \n",
       "\n",
       "[5 rows x 23 columns]"
      ]
     },
     "execution_count": 100,
     "metadata": {},
     "output_type": "execute_result"
    }
   ],
   "source": [
    "df_blockchain.head()"
   ]
  },
  {
   "cell_type": "markdown",
   "metadata": {},
   "source": [
    "# Explore Dataset\n",
    "\n",
    "We already Explore dataset before, but you can draw other plots to analyse data if you want.\n",
    "\n",
    "Idea : you can use pandas_profiling \n",
    "\n",
    "```python\n",
    "from pandas_profiling import ProfileReport\n",
    "ProfileReport(df)\n",
    "```"
   ]
  },
  {
   "cell_type": "code",
   "execution_count": null,
   "metadata": {},
   "outputs": [],
   "source": [
    "# Your Code Here"
   ]
  },
  {
   "cell_type": "code",
   "execution_count": 118,
   "metadata": {},
   "outputs": [],
   "source": [
    "# get only some columns (You can add more columns to analyse results)\n",
    "columns = [\"market-price\"]\n",
    "dataset = df_blockchain[columns]"
   ]
  },
  {
   "cell_type": "markdown",
   "metadata": {},
   "source": [
    "# Data scaling\n",
    "\n",
    "Here we scale price between 0 and 1, this well help the optimization algorithm converge faster.\n",
    "\n",
    "See the following figure (source : Andrew Ng https://www.andrewng.org ) :\n",
    "\n",
    "![alt text](../data/feature-scaling.png \"Title\")\n",
    "\n"
   ]
  },
  {
   "cell_type": "code",
   "execution_count": 119,
   "metadata": {},
   "outputs": [],
   "source": [
    "scaler = MinMaxScaler(feature_range=(0, 1))\n",
    "dataset = scaler.fit_transform(dataset.values.reshape(-1,len(columns)))"
   ]
  },
  {
   "cell_type": "code",
   "execution_count": 120,
   "metadata": {},
   "outputs": [
    {
     "data": {
      "text/plain": [
       "(3170, 2)"
      ]
     },
     "execution_count": 120,
     "metadata": {},
     "output_type": "execute_result"
    }
   ],
   "source": [
    "dataset.shape"
   ]
  },
  {
   "cell_type": "markdown",
   "metadata": {},
   "source": [
    "# Split Data\n",
    "\n",
    "split data into train/valid/test set as follow :\n",
    "\n",
    "- test set size : rnn_size + predicition_days(30)\n",
    "- train set size : 80% of the rest\n",
    "- valid set size : the rest"
   ]
  },
  {
   "cell_type": "code",
   "execution_count": 121,
   "metadata": {},
   "outputs": [],
   "source": [
    "# split data\n",
    "prediction_days = 30\n",
    "rnn_size = 5\n",
    "test_size = prediction_days + rnn_size\n",
    "\n",
    "#Your Code Here\n",
    "train_size = \n",
    "valid_size = \n",
    "\n",
    "data_train = dataset[:train_size]\n",
    "data_valid = dataset[train_size : train_size + valid_size]\n",
    "data_test = dataset[train_size + valid_size : train_size + valid_size + 30]"
   ]
  },
  {
   "cell_type": "code",
   "execution_count": 131,
   "metadata": {},
   "outputs": [
    {
     "data": {
      "text/plain": [
       "(2508, 2)"
      ]
     },
     "execution_count": 131,
     "metadata": {},
     "output_type": "execute_result"
    }
   ],
   "source": [
    "data_train.shape"
   ]
  },
  {
   "cell_type": "markdown",
   "metadata": {},
   "source": [
    "# Process data (Making sequences)\n",
    "\n",
    "here we process data before training.\n",
    "\n",
    "LSTM layer as an input layer expects the data to be 3 dimensions, we will use 'process_data' function to split data into sequences of a fixed length (rnn_size).\n",
    "\n",
    "The neural network is expecting to have an input's shap of [batch_size, rnn_size, nb_features]"
   ]
  },
  {
   "cell_type": "code",
   "execution_count": 139,
   "metadata": {},
   "outputs": [],
   "source": [
    "def process_data(data, rnn_size=rnn_size, target_id=0, columns_size=len(columns)):\n",
    "    X = []\n",
    "    y = []\n",
    "    for i in range(len(data)-rnn_size):\n",
    "        X.append(data[i:i+rnn_size,:])\n",
    "        y.append(data[i+rnn_size,0])\n",
    "    return np.array(X).astype(np.float32).reshape((-1,rnn_size,columns_size)), np.array(y).astype(np.float32)"
   ]
  },
  {
   "cell_type": "code",
   "execution_count": 140,
   "metadata": {},
   "outputs": [],
   "source": [
    "# process data for RNN\n",
    "X_train, y_train = process_data(data_train)\n",
    "X_val, y_val = process_data(data_valid)\n",
    "X_test, y_test = process_data(data_test)"
   ]
  },
  {
   "cell_type": "code",
   "execution_count": 141,
   "metadata": {},
   "outputs": [
    {
     "data": {
      "text/plain": [
       "(2503, 5, 2)"
      ]
     },
     "execution_count": 141,
     "metadata": {},
     "output_type": "execute_result"
    }
   ],
   "source": [
    "X_train.shape"
   ]
  },
  {
   "cell_type": "code",
   "execution_count": 170,
   "metadata": {},
   "outputs": [
    {
     "data": {
      "text/plain": [
       "(622, 5, 2)"
      ]
     },
     "execution_count": 170,
     "metadata": {},
     "output_type": "execute_result"
    }
   ],
   "source": [
    "X_val.shape"
   ]
  },
  {
   "cell_type": "code",
   "execution_count": 171,
   "metadata": {},
   "outputs": [
    {
     "data": {
      "text/plain": [
       "(25, 5, 2)"
      ]
     },
     "execution_count": 171,
     "metadata": {},
     "output_type": "execute_result"
    }
   ],
   "source": [
    "X_test.shape"
   ]
  },
  {
   "cell_type": "markdown",
   "metadata": {},
   "source": [
    "# Deep Learning Model\n",
    "\n",
    "Here we initialize the model using Keras.\n",
    "\n",
    "Here we propose to code a basic neural network LSTM + Dense, but you are free to use any architecture."
   ]
  },
  {
   "cell_type": "code",
   "execution_count": 142,
   "metadata": {},
   "outputs": [],
   "source": [
    "# neural network model\n",
    "\n",
    "# Initialising the model\n",
    "regressor = Sequential()\n",
    "\n",
    "# Adding the input/LSTM layer \n",
    "#Your Code Here\n",
    "regressor.add()\n",
    "\n",
    "# Adding the output layer\n",
    "#Your Code Here\n",
    "regressor.add()\n",
    "\n",
    "#Compiling the Recurrent Neural Network with adam optimier and 'mean_absolute_error' as loss function\n",
    "regressor.compile()"
   ]
  },
  {
   "cell_type": "code",
   "execution_count": 143,
   "metadata": {
    "scrolled": true
   },
   "outputs": [
    {
     "name": "stdout",
     "output_type": "stream",
     "text": [
      "Train on 2503 samples, validate on 622 samples\n",
      "Epoch 1/50\n",
      "2503/2503 [==============================] - 1s 357us/step - loss: 0.0923 - val_loss: 0.2504\n",
      "Epoch 2/50\n",
      "2503/2503 [==============================] - 0s 191us/step - loss: 0.0476 - val_loss: 0.1891\n",
      "Epoch 3/50\n",
      "2503/2503 [==============================] - 0s 191us/step - loss: 0.0428 - val_loss: 0.0551\n",
      "Epoch 4/50\n",
      "2503/2503 [==============================] - 0s 185us/step - loss: 0.0256 - val_loss: 0.0127\n",
      "Epoch 5/50\n",
      "2503/2503 [==============================] - 1s 209us/step - loss: 0.0171 - val_loss: 0.0236\n",
      "Epoch 6/50\n",
      "2503/2503 [==============================] - 0s 182us/step - loss: 0.0191 - val_loss: 0.0101\n",
      "Epoch 7/50\n",
      "2503/2503 [==============================] - 0s 190us/step - loss: 0.0284 - val_loss: 0.0217\n",
      "Epoch 8/50\n",
      "2503/2503 [==============================] - 0s 187us/step - loss: 0.0143 - val_loss: 0.0102\n",
      "Epoch 9/50\n",
      "2503/2503 [==============================] - 0s 192us/step - loss: 0.0233 - val_loss: 0.0122\n",
      "Epoch 10/50\n",
      "2503/2503 [==============================] - 0s 192us/step - loss: 0.0134 - val_loss: 0.0143\n",
      "Epoch 11/50\n",
      "2503/2503 [==============================] - 0s 199us/step - loss: 0.0131 - val_loss: 0.0238\n",
      "Epoch 12/50\n",
      "2503/2503 [==============================] - 1s 204us/step - loss: 0.0169 - val_loss: 0.0107\n",
      "Epoch 13/50\n",
      "2503/2503 [==============================] - 1s 232us/step - loss: 0.0176 - val_loss: 0.0244\n",
      "Epoch 14/50\n",
      "2503/2503 [==============================] - 0s 186us/step - loss: 0.0227 - val_loss: 0.0105\n",
      "Epoch 15/50\n",
      "2503/2503 [==============================] - 0s 198us/step - loss: 0.0116 - val_loss: 0.0295\n",
      "Epoch 16/50\n",
      "2503/2503 [==============================] - 0s 185us/step - loss: 0.0133 - val_loss: 0.0182\n",
      "Epoch 17/50\n",
      "2503/2503 [==============================] - 0s 185us/step - loss: 0.0127 - val_loss: 0.0190\n",
      "Epoch 18/50\n",
      "2503/2503 [==============================] - 0s 194us/step - loss: 0.0123 - val_loss: 0.0104\n",
      "Epoch 19/50\n",
      "2503/2503 [==============================] - 0s 190us/step - loss: 0.0102 - val_loss: 0.0115\n",
      "Epoch 20/50\n",
      "2503/2503 [==============================] - 1s 206us/step - loss: 0.0115 - val_loss: 0.0137\n",
      "Epoch 21/50\n",
      "2503/2503 [==============================] - 1s 214us/step - loss: 0.0121 - val_loss: 0.0151\n",
      "Epoch 22/50\n",
      "2503/2503 [==============================] - 1s 249us/step - loss: 0.0140 - val_loss: 0.0111\n",
      "Epoch 23/50\n",
      "2503/2503 [==============================] - 1s 240us/step - loss: 0.0071 - val_loss: 0.0125\n",
      "Epoch 24/50\n",
      "2503/2503 [==============================] - 1s 281us/step - loss: 0.0109 - val_loss: 0.0117\n",
      "Epoch 25/50\n",
      "2503/2503 [==============================] - 1s 242us/step - loss: 0.0165 - val_loss: 0.0139\n",
      "Epoch 26/50\n",
      "2503/2503 [==============================] - 1s 205us/step - loss: 0.0158 - val_loss: 0.0101\n",
      "Epoch 27/50\n",
      "2503/2503 [==============================] - 1s 240us/step - loss: 0.0092 - val_loss: 0.0317\n",
      "Epoch 28/50\n",
      "2503/2503 [==============================] - 0s 200us/step - loss: 0.0138 - val_loss: 0.0185\n",
      "Epoch 29/50\n",
      "2503/2503 [==============================] - 1s 211us/step - loss: 0.0130 - val_loss: 0.0124\n",
      "Epoch 30/50\n",
      "2503/2503 [==============================] - 0s 198us/step - loss: 0.0108 - val_loss: 0.0120\n",
      "Epoch 31/50\n",
      "2503/2503 [==============================] - 0s 194us/step - loss: 0.0086 - val_loss: 0.0289\n",
      "Epoch 32/50\n",
      "2503/2503 [==============================] - 1s 219us/step - loss: 0.0137 - val_loss: 0.0209\n",
      "Epoch 33/50\n",
      "2503/2503 [==============================] - 1s 231us/step - loss: 0.0157 - val_loss: 0.0201\n",
      "Epoch 34/50\n",
      "2503/2503 [==============================] - 1s 220us/step - loss: 0.0118 - val_loss: 0.0154\n",
      "Epoch 35/50\n",
      "2503/2503 [==============================] - 1s 205us/step - loss: 0.0092 - val_loss: 0.0125\n",
      "Epoch 36/50\n",
      "2503/2503 [==============================] - 1s 241us/step - loss: 0.0108 - val_loss: 0.0175\n",
      "Epoch 37/50\n",
      "2503/2503 [==============================] - 1s 226us/step - loss: 0.0085 - val_loss: 0.0154\n",
      "Epoch 38/50\n",
      "2503/2503 [==============================] - 1s 213us/step - loss: 0.0081 - val_loss: 0.0116\n",
      "Epoch 39/50\n",
      "2503/2503 [==============================] - 1s 206us/step - loss: 0.0086 - val_loss: 0.0144\n",
      "Epoch 40/50\n",
      "2503/2503 [==============================] - 1s 230us/step - loss: 0.0111 - val_loss: 0.0123\n",
      "Epoch 41/50\n",
      "2503/2503 [==============================] - 1s 241us/step - loss: 0.0100 - val_loss: 0.0162\n",
      "Epoch 42/50\n",
      "2503/2503 [==============================] - 1s 215us/step - loss: 0.0074 - val_loss: 0.0210\n",
      "Epoch 43/50\n",
      "2503/2503 [==============================] - 1s 213us/step - loss: 0.0146 - val_loss: 0.0145\n",
      "Epoch 44/50\n",
      "2503/2503 [==============================] - 1s 205us/step - loss: 0.0083 - val_loss: 0.0112\n",
      "Epoch 45/50\n",
      "2503/2503 [==============================] - 0s 198us/step - loss: 0.0105 - val_loss: 0.0250\n",
      "Epoch 46/50\n",
      "2503/2503 [==============================] - 1s 218us/step - loss: 0.0138 - val_loss: 0.0122\n",
      "Epoch 47/50\n",
      "2503/2503 [==============================] - 1s 200us/step - loss: 0.0101 - val_loss: 0.0146\n",
      "Epoch 48/50\n",
      "2503/2503 [==============================] - 1s 235us/step - loss: 0.0125 - val_loss: 0.0149\n",
      "Epoch 49/50\n",
      "2503/2503 [==============================] - 0s 198us/step - loss: 0.0154 - val_loss: 0.0278\n",
      "Epoch 50/50\n",
      "2503/2503 [==============================] - 1s 226us/step - loss: 0.0132 - val_loss: 0.0179\n"
     ]
    },
    {
     "data": {
      "text/plain": [
       "<keras.callbacks.callbacks.History at 0x14baa70d0>"
      ]
     },
     "execution_count": 143,
     "metadata": {},
     "output_type": "execute_result"
    }
   ],
   "source": [
    "#Fitting the Recurrent Neural Network\n",
    "regressor.fit(X_train, y_train, validation_data = (X_val, y_val), batch_size = 32, epochs = 50)"
   ]
  },
  {
   "cell_type": "markdown",
   "metadata": {},
   "source": [
    "# Evaluation"
   ]
  },
  {
   "cell_type": "code",
   "execution_count": 144,
   "metadata": {},
   "outputs": [
    {
     "name": "stdout",
     "output_type": "stream",
     "text": [
      "\r",
      "25/25 [==============================] - 0s 246us/step\n"
     ]
    },
    {
     "data": {
      "text/plain": [
       "0.022106008604168892"
      ]
     },
     "execution_count": 144,
     "metadata": {},
     "output_type": "execute_result"
    }
   ],
   "source": [
    "# mae score (using scaled price and regressor attir)\n",
    "regressor.evaluate(X_test,y_test)"
   ]
  },
  {
   "cell_type": "code",
   "execution_count": 178,
   "metadata": {},
   "outputs": [],
   "source": [
    "#implement mae score function"
   ]
  },
  {
   "cell_type": "code",
   "execution_count": 180,
   "metadata": {},
   "outputs": [
    {
     "name": "stdout",
     "output_type": "stream",
     "text": [
      "mae score :  213.0754130720132\n"
     ]
    }
   ],
   "source": [
    "# mae score (real price)\n",
    "y_pred = regressor.predict(X_test)\n",
    "y_pred_inverse = scaler.inverse_transform(np.concatenate([y_pred, data_test[-len(y_pred):,1:]], axis=1))\n",
    "y_test_inverse = scaler.inverse_transform(data_test.reshape(-1,len(columns)))\n",
    "\n",
    "print(\"mae score : \", mae_score(y_test_inverse[rnn_size:], y_pred_inverse))"
   ]
  },
  {
   "cell_type": "code",
   "execution_count": 172,
   "metadata": {},
   "outputs": [
    {
     "data": {
      "image/png": "[encoded data removed]",
      "text/plain": [
       "<Figure size 432x288 with 1 Axes>"
      ]
     },
     "metadata": {
      "needs_background": "light"
     },
     "output_type": "display_data"
    }
   ],
   "source": [
    "#Graphs for predicted values\n",
    "plt.plot(y_test_inverse[rnn_size:,0], color = 'red', label = 'true BTC Value')\n",
    "plt.plot(y_pred_inverse[:,0], color = 'blue', label = 'predicted BTC Value')\n",
    "plt.title('BTC Value Prediction')\n",
    "plt.xlabel('Days')\n",
    "plt.ylabel('BTC Value')\n",
    "plt.legend()\n",
    "plt.show()"
   ]
  },
  {
   "cell_type": "markdown",
   "metadata": {},
   "source": [
    "# If you this far, you can : \n",
    "- Test other neural network models\n",
    "- Test other optimizer\n",
    "- Compare result between Arima and RNN models\n",
    "- Find a way to choose most important variables\n",
    "- ..."
   ]
  },
  {
   "cell_type": "code",
   "execution_count": null,
   "metadata": {},
   "outputs": [],
   "source": []
  }
 ],
 "metadata": {
  "kernelspec": {
   "display_name": "venv",
   "language": "python",
   "name": "venv"
  },
  "language_info": {
   "codemirror_mode": {
    "name": "ipython",
    "version": 3
   },
   "file_extension": ".py",
   "mimetype": "text/x-python",
   "name": "python",
   "nbconvert_exporter": "python",
   "pygments_lexer": "ipython3",
   "version": "3.7.4"
  }
 },
 "nbformat": 4,
 "nbformat_minor": 2
}
