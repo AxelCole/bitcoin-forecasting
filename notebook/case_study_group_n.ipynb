{
 "cells": [
  {
   "cell_type": "markdown",
   "metadata": {},
   "source": [
    "# Your mission"
   ]
  },
  {
   "cell_type": "markdown",
   "metadata": {},
   "source": [
    "You started working in a financial institution. You manager Mark is insterested in investing and trading **Bitcoin** to diversify his portfolio. So he turned to you to develop a crypto trading bot.\n",
    "\n",
    "A **crypto trading bot** is a computer program with an underlying predictive model that automatically outputs a predicted price for the next 30 days based on the history of Bitcoin market price and Blockchain variables. \n",
    "\n",
    "Your mission is to train an accurate predictive model with the lowest mean squared error. Mark is a very technical guy, he likes to understand all **technical details** and would like you to **compare the performances of classical models and neural-net based models**.\n",
    "\n",
    "Your **target variable** is the Bitcoin Market price.\n",
    "\n",
    "**Data source** : https://blockchain.info/"
   ]
  },
  {
   "cell_type": "code",
   "execution_count": 1,
   "metadata": {},
   "outputs": [],
   "source": [
    "import os\n",
    "import numpy as np\n",
    "import pandas as pd\n",
    "import matplotlib.pylab as plt\n",
    "import seaborn as sns\n",
    "from statsmodels.graphics.tsaplots import plot_acf, plot_pacf\n",
    "from statsmodels.tsa.stattools import adfuller\n",
    "from sklearn.metrics import mean_squared_error\n",
    "import helper_functions as hf\n",
    "\n",
    "CURDIR = os.path.dirname(os.getcwd())\n",
    "DATADIR = os.path.join(CURDIR,  \"data\")\n",
    "FIGDIR = os.path.join(CURDIR,  \"figure\")\n",
    "%matplotlib inline"
   ]
  },
  {
   "cell_type": "markdown",
   "metadata": {},
   "source": [
    "# Data Exploration"
   ]
  },
  {
   "cell_type": "markdown",
   "metadata": {},
   "source": [
    "In this section, you are to explore the data. You are to fulfill the following tasks:\n",
    "- **Univariate analysis**\n",
    "    - study the Bitcoin market price time series, in terms of its trend, cycle, seasonality, and stationnarity \n",
    "    - **Tips**: you can analyse ACF, PACF plots, perform Augmented Dickey-Fuller test\n",
    "- **Multivariate analysis**\n",
    "    - study other blockchain variables, retrieve insights\n",
    "    - study the correlation between the Bitcoin market price and other blockchain variables \n",
    "    - **Tips**: Pearson correlation"
   ]
  },
  {
   "cell_type": "code",
   "execution_count": 2,
   "metadata": {},
   "outputs": [],
   "source": [
    "df_blockchain = pd.read_csv(os.path.join(DATADIR, \"df_blockchain.csv\"), delimiter=\";\")\n"
   ]
  },
  {
   "cell_type": "code",
   "execution_count": 3,
   "metadata": {
    "scrolled": true
   },
   "outputs": [
    {
     "data": {
      "text/html": [
       "<div>\n",
       "<style scoped>\n",
       "    .dataframe tbody tr th:only-of-type {\n",
       "        vertical-align: middle;\n",
       "    }\n",
       "\n",
       "    .dataframe tbody tr th {\n",
       "        vertical-align: top;\n",
       "    }\n",
       "\n",
       "    .dataframe thead th {\n",
       "        text-align: right;\n",
       "    }\n",
       "</style>\n",
       "<table border=\"1\" class=\"dataframe\">\n",
       "  <thead>\n",
       "    <tr style=\"text-align: right;\">\n",
       "      <th></th>\n",
       "      <th>Date</th>\n",
       "      <th>market-price</th>\n",
       "      <th>n-transactions-per-block</th>\n",
       "      <th>median-confirmation-time</th>\n",
       "      <th>hash-rate</th>\n",
       "      <th>difficulty</th>\n",
       "      <th>miners-revenue</th>\n",
       "      <th>trade-volume</th>\n",
       "      <th>blocks-size</th>\n",
       "      <th>avg-block-size</th>\n",
       "      <th>...</th>\n",
       "      <th>cost-per-transaction</th>\n",
       "      <th>n-unique-addresses</th>\n",
       "      <th>n-transactions</th>\n",
       "      <th>n-transactions-total</th>\n",
       "      <th>n-transactions-excluding-popular</th>\n",
       "      <th>output-volume</th>\n",
       "      <th>estimated-transaction-volume</th>\n",
       "      <th>estimated-transaction-volume-usd</th>\n",
       "      <th>total-bitcoins</th>\n",
       "      <th>market-cap</th>\n",
       "    </tr>\n",
       "  </thead>\n",
       "  <tbody>\n",
       "    <tr>\n",
       "      <th>0</th>\n",
       "      <td>2011-09-13</td>\n",
       "      <td>6.88</td>\n",
       "      <td>45.908451</td>\n",
       "      <td>0.0</td>\n",
       "      <td>12.018816</td>\n",
       "      <td>1.777774e+06</td>\n",
       "      <td>52318.011503</td>\n",
       "      <td>0.0</td>\n",
       "      <td>592.190091</td>\n",
       "      <td>0.019009</td>\n",
       "      <td>...</td>\n",
       "      <td>7.666766</td>\n",
       "      <td>12622.0</td>\n",
       "      <td>6519.0</td>\n",
       "      <td>1497195.0</td>\n",
       "      <td>6519.0</td>\n",
       "      <td>358543.612114</td>\n",
       "      <td>58615.641320</td>\n",
       "      <td>403275.612279</td>\n",
       "      <td>7.257416e+06</td>\n",
       "      <td>5.022014e+07</td>\n",
       "    </tr>\n",
       "    <tr>\n",
       "      <th>1</th>\n",
       "      <td>2011-09-14</td>\n",
       "      <td>6.19</td>\n",
       "      <td>42.465753</td>\n",
       "      <td>0.0</td>\n",
       "      <td>13.263925</td>\n",
       "      <td>1.755425e+06</td>\n",
       "      <td>48306.468911</td>\n",
       "      <td>0.0</td>\n",
       "      <td>594.907367</td>\n",
       "      <td>0.018007</td>\n",
       "      <td>...</td>\n",
       "      <td>7.369408</td>\n",
       "      <td>12408.0</td>\n",
       "      <td>6200.0</td>\n",
       "      <td>1503780.0</td>\n",
       "      <td>6200.0</td>\n",
       "      <td>302619.024544</td>\n",
       "      <td>74521.484625</td>\n",
       "      <td>461287.989830</td>\n",
       "      <td>7.264662e+06</td>\n",
       "      <td>4.540930e+07</td>\n",
       "    </tr>\n",
       "    <tr>\n",
       "      <th>2</th>\n",
       "      <td>2011-09-15</td>\n",
       "      <td>5.92</td>\n",
       "      <td>41.500000</td>\n",
       "      <td>0.0</td>\n",
       "      <td>12.914875</td>\n",
       "      <td>1.755425e+06</td>\n",
       "      <td>60431.444952</td>\n",
       "      <td>0.0</td>\n",
       "      <td>597.554226</td>\n",
       "      <td>0.018240</td>\n",
       "      <td>...</td>\n",
       "      <td>7.333913</td>\n",
       "      <td>12988.0</td>\n",
       "      <td>6474.0</td>\n",
       "      <td>1509972.0</td>\n",
       "      <td>6474.0</td>\n",
       "      <td>299226.130646</td>\n",
       "      <td>79422.402932</td>\n",
       "      <td>470180.625359</td>\n",
       "      <td>7.272284e+06</td>\n",
       "      <td>4.322228e+07</td>\n",
       "    </tr>\n",
       "    <tr>\n",
       "      <th>3</th>\n",
       "      <td>2011-09-16</td>\n",
       "      <td>5.58</td>\n",
       "      <td>52.176471</td>\n",
       "      <td>0.0</td>\n",
       "      <td>10.995096</td>\n",
       "      <td>1.755425e+06</td>\n",
       "      <td>34345.021913</td>\n",
       "      <td>0.0</td>\n",
       "      <td>600.362512</td>\n",
       "      <td>0.022136</td>\n",
       "      <td>...</td>\n",
       "      <td>5.466341</td>\n",
       "      <td>12059.0</td>\n",
       "      <td>6209.0</td>\n",
       "      <td>1516381.0</td>\n",
       "      <td>6209.0</td>\n",
       "      <td>674606.861338</td>\n",
       "      <td>82696.853247</td>\n",
       "      <td>461448.441118</td>\n",
       "      <td>7.279040e+06</td>\n",
       "      <td>4.088136e+07</td>\n",
       "    </tr>\n",
       "    <tr>\n",
       "      <th>4</th>\n",
       "      <td>2011-09-17</td>\n",
       "      <td>5.18</td>\n",
       "      <td>40.701493</td>\n",
       "      <td>0.0</td>\n",
       "      <td>10.733308</td>\n",
       "      <td>1.755425e+06</td>\n",
       "      <td>36805.913687</td>\n",
       "      <td>0.0</td>\n",
       "      <td>602.995510</td>\n",
       "      <td>0.017116</td>\n",
       "      <td>...</td>\n",
       "      <td>6.489054</td>\n",
       "      <td>10988.0</td>\n",
       "      <td>5454.0</td>\n",
       "      <td>1522600.0</td>\n",
       "      <td>5454.0</td>\n",
       "      <td>354198.945778</td>\n",
       "      <td>68238.166521</td>\n",
       "      <td>353473.702578</td>\n",
       "      <td>7.285375e+06</td>\n",
       "      <td>3.801833e+07</td>\n",
       "    </tr>\n",
       "  </tbody>\n",
       "</table>\n",
       "<p>5 rows × 23 columns</p>\n",
       "</div>"
      ],
      "text/plain": [
       "         Date  market-price  n-transactions-per-block  \\\n",
       "0  2011-09-13          6.88                 45.908451   \n",
       "1  2011-09-14          6.19                 42.465753   \n",
       "2  2011-09-15          5.92                 41.500000   \n",
       "3  2011-09-16          5.58                 52.176471   \n",
       "4  2011-09-17          5.18                 40.701493   \n",
       "\n",
       "   median-confirmation-time  hash-rate    difficulty  miners-revenue  \\\n",
       "0                       0.0  12.018816  1.777774e+06    52318.011503   \n",
       "1                       0.0  13.263925  1.755425e+06    48306.468911   \n",
       "2                       0.0  12.914875  1.755425e+06    60431.444952   \n",
       "3                       0.0  10.995096  1.755425e+06    34345.021913   \n",
       "4                       0.0  10.733308  1.755425e+06    36805.913687   \n",
       "\n",
       "   trade-volume  blocks-size  avg-block-size  ...  cost-per-transaction  \\\n",
       "0           0.0   592.190091        0.019009  ...              7.666766   \n",
       "1           0.0   594.907367        0.018007  ...              7.369408   \n",
       "2           0.0   597.554226        0.018240  ...              7.333913   \n",
       "3           0.0   600.362512        0.022136  ...              5.466341   \n",
       "4           0.0   602.995510        0.017116  ...              6.489054   \n",
       "\n",
       "   n-unique-addresses  n-transactions  n-transactions-total  \\\n",
       "0             12622.0          6519.0             1497195.0   \n",
       "1             12408.0          6200.0             1503780.0   \n",
       "2             12988.0          6474.0             1509972.0   \n",
       "3             12059.0          6209.0             1516381.0   \n",
       "4             10988.0          5454.0             1522600.0   \n",
       "\n",
       "   n-transactions-excluding-popular  output-volume  \\\n",
       "0                            6519.0  358543.612114   \n",
       "1                            6200.0  302619.024544   \n",
       "2                            6474.0  299226.130646   \n",
       "3                            6209.0  674606.861338   \n",
       "4                            5454.0  354198.945778   \n",
       "\n",
       "   estimated-transaction-volume  estimated-transaction-volume-usd  \\\n",
       "0                  58615.641320                     403275.612279   \n",
       "1                  74521.484625                     461287.989830   \n",
       "2                  79422.402932                     470180.625359   \n",
       "3                  82696.853247                     461448.441118   \n",
       "4                  68238.166521                     353473.702578   \n",
       "\n",
       "   total-bitcoins    market-cap  \n",
       "0    7.257416e+06  5.022014e+07  \n",
       "1    7.264662e+06  4.540930e+07  \n",
       "2    7.272284e+06  4.322228e+07  \n",
       "3    7.279040e+06  4.088136e+07  \n",
       "4    7.285375e+06  3.801833e+07  \n",
       "\n",
       "[5 rows x 23 columns]"
      ]
     },
     "execution_count": 3,
     "metadata": {},
     "output_type": "execute_result"
    }
   ],
   "source": [
    "df_blockchain.head()"
   ]
  },
  {
   "cell_type": "code",
   "execution_count": 4,
   "metadata": {},
   "outputs": [],
   "source": [
    "# Your code here"
   ]
  },
  {
   "cell_type": "markdown",
   "metadata": {},
   "source": [
    "## Train test split"
   ]
  },
  {
   "cell_type": "code",
   "execution_count": 5,
   "metadata": {},
   "outputs": [],
   "source": [
    "X_train, X_test = hf.data_split(df_blockchain)"
   ]
  },
  {
   "cell_type": "markdown",
   "metadata": {},
   "source": [
    "# Modeling with ARIMA\n",
    "In this section, you are to perform some classical modelings, the suggested method here is ARIMA, but you can try other models such as ARMA, ARIMAX, SARIMAX..."
   ]
  },
  {
   "cell_type": "markdown",
   "metadata": {},
   "source": [
    "## Modeling\n",
    "The following code allows ARIMA modeling with one combination of (p,d,q)."
   ]
  },
  {
   "cell_type": "code",
   "execution_count": 6,
   "metadata": {},
   "outputs": [
    {
     "name": "stderr",
     "output_type": "stream",
     "text": [
      "/Users/patricklee/Documents/st4_mds_prepa/mds_env/lib/python3.7/site-packages/statsmodels/base/model.py:568: ConvergenceWarning: Maximum Likelihood optimization failed to converge. Check mle_retvals\n",
      "  \"Check mle_retvals\", ConvergenceWarning)\n",
      "/Users/patricklee/Documents/st4_mds_prepa/mds_env/lib/python3.7/site-packages/statsmodels/base/model.py:568: ConvergenceWarning: Maximum Likelihood optimization failed to converge. Check mle_retvals\n",
      "  \"Check mle_retvals\", ConvergenceWarning)\n"
     ]
    },
    {
     "data": {
      "text/plain": [
       "351.6885124532337"
      ]
     },
     "execution_count": 6,
     "metadata": {},
     "output_type": "execute_result"
    }
   ],
   "source": [
    "errors, predictions = hf.evaluate_arima_model(X_train[\"market-price\"], \n",
    "                                              X_test[\"market-price\"], (0,2,2))\n",
    "errors"
   ]
  },
  {
   "cell_type": "markdown",
   "metadata": {},
   "source": [
    "## Search for the best ARIMA model\n",
    "We use grid search to search for the best ARIMA parameters that gives the lowest error. This follows the Box-Jenkins methology."
   ]
  },
  {
   "cell_type": "code",
   "execution_count": 7,
   "metadata": {},
   "outputs": [
    {
     "name": "stdout",
     "output_type": "stream",
     "text": [
      "ARIMA(0,2,1) RMSE=351.644\n"
     ]
    },
    {
     "name": "stderr",
     "output_type": "stream",
     "text": [
      "/Users/patricklee/Documents/st4_mds_prepa/mds_env/lib/python3.7/site-packages/statsmodels/base/model.py:568: ConvergenceWarning: Maximum Likelihood optimization failed to converge. Check mle_retvals\n",
      "  \"Check mle_retvals\", ConvergenceWarning)\n",
      "/Users/patricklee/Documents/st4_mds_prepa/mds_env/lib/python3.7/site-packages/statsmodels/base/model.py:568: ConvergenceWarning: Maximum Likelihood optimization failed to converge. Check mle_retvals\n",
      "  \"Check mle_retvals\", ConvergenceWarning)\n"
     ]
    },
    {
     "name": "stdout",
     "output_type": "stream",
     "text": [
      "ARIMA(0,2,2) RMSE=351.689\n",
      "Best ARIMA(0, 2, 1) MSE=351.644\n"
     ]
    },
    {
     "data": {
      "text/plain": [
       "(0, 2, 1)"
      ]
     },
     "execution_count": 7,
     "metadata": {},
     "output_type": "execute_result"
    }
   ],
   "source": [
    "best_cfg, best_score = hf.arima_grid_search(X_train[\"market-price\"], \n",
    "                                            X_test[\"market-price\"],\n",
    "                                            [0], [2], [1,2])"
   ]
  },
  {
   "cell_type": "code",
   "execution_count": null,
   "metadata": {},
   "outputs": [],
   "source": []
  }
 ],
 "metadata": {
  "kernelspec": {
   "display_name": "mds_env",
   "language": "python",
   "name": "mds_env"
  },
  "language_info": {
   "codemirror_mode": {
    "name": "ipython",
    "version": 3
   },
   "file_extension": ".py",
   "mimetype": "text/x-python",
   "name": "python",
   "nbconvert_exporter": "python",
   "pygments_lexer": "ipython3",
   "version": "3.7.3"
  },
  "toc": {
   "base_numbering": 1,
   "nav_menu": {},
   "number_sections": true,
   "sideBar": true,
   "skip_h1_title": false,
   "title_cell": "Table of Contents",
   "title_sidebar": "Contents",
   "toc_cell": false,
   "toc_position": {},
   "toc_section_display": true,
   "toc_window_display": false
  }
 },
 "nbformat": 4,
 "nbformat_minor": 2
}
