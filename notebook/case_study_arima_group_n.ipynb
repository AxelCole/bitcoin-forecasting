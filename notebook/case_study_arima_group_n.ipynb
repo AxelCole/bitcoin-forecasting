{
 "cells": [
  {
   "cell_type": "markdown",
   "metadata": {},
   "source": [
    "# Your mission"
   ]
  },
  {
   "cell_type": "markdown",
   "metadata": {},
   "source": [
    "You started working in a financial institution. You manager Mark is insterested in investing and trading **Bitcoin** to diversify his portfolio. So he turned to you to develop a crypto trading bot.\n",
    "\n",
    "A **crypto trading bot** is a computer program with an underlying predictive model that automatically outputs a predicted day to day price for the next 30 days based on the history of Bitcoin market price and Blockchain variables. \n",
    "\n",
    "Your mission is to train an accurate predictive model with the lowest mean squared error. Mark is a very technical guy, he likes to understand all **technical details** and would like you to **compare the performances of classical models and neural-net based models**.\n",
    "\n",
    "Your **target variable** is the Bitcoin Market price.\n",
    "\n",
    "**Data source** : https://blockchain.info/"
   ]
  },
  {
   "cell_type": "code",
   "execution_count": 7,
   "metadata": {},
   "outputs": [],
   "source": [
    "import os\n",
    "import numpy as np\n",
    "import pandas as pd\n",
    "import matplotlib.pylab as plt\n",
    "import seaborn as sns\n",
    "from statsmodels.graphics.tsaplots import plot_acf, plot_pacf\n",
    "from statsmodels.tsa.stattools import adfuller\n",
    "from sklearn.metrics import mean_squared_error\n",
    "import helper_functions as hf\n",
    "\n",
    "CURDIR = os.path.dirname(os.getcwd())\n",
    "DATADIR = os.path.join(CURDIR,  \"data\")\n",
    "%matplotlib inline"
   ]
  },
  {
   "cell_type": "markdown",
   "metadata": {},
   "source": [
    "# Data Exploration"
   ]
  },
  {
   "cell_type": "markdown",
   "metadata": {},
   "source": [
    "In this section, you are to explore the data. You are to fulfill the following tasks:\n",
    "- **Univariate analysis**\n",
    "    - study the Bitcoin market price time series, in terms of its trend, cycle, seasonality, and stationnarity \n",
    "    - **Tips**: you can analyse ACF, PACF plots, perform Augmented Dickey-Fuller test\n",
    "- **Multivariate analysis**\n",
    "    - study other blockchain variables, retrieve insights\n",
    "    - study the correlation between the Bitcoin market price and other blockchain variables \n",
    "    - **Tips**: Pearson correlation"
   ]
  },
  {
   "cell_type": "code",
   "execution_count": null,
   "metadata": {},
   "outputs": [],
   "source": [
    "df_blockchain = pd.read_csv(os.path.join(DATADIR, \"df_blockchain.csv\"), \n",
    "                            delimiter=\",\")\n"
   ]
  },
  {
   "cell_type": "code",
   "execution_count": null,
   "metadata": {
    "scrolled": true
   },
   "outputs": [],
   "source": [
    "df_blockchain.head()"
   ]
  },
  {
   "cell_type": "code",
   "execution_count": null,
   "metadata": {},
   "outputs": [],
   "source": [
    "df_blockchain.columns.sort_values().shape"
   ]
  },
  {
   "cell_type": "markdown",
   "metadata": {},
   "source": [
    "## Autocorrelaiton and Partial correlation"
   ]
  },
  {
   "cell_type": "code",
   "execution_count": null,
   "metadata": {},
   "outputs": [],
   "source": [
    "plot_acf(df_blockchain[\"market-price\"]);"
   ]
  },
  {
   "cell_type": "code",
   "execution_count": null,
   "metadata": {},
   "outputs": [],
   "source": [
    "plot_pacf(df_blockchain[\"market-price\"]);"
   ]
  },
  {
   "cell_type": "code",
   "execution_count": null,
   "metadata": {},
   "outputs": [],
   "source": [
    "# Your code here for data exploration\n"
   ]
  },
  {
   "cell_type": "markdown",
   "metadata": {},
   "source": [
    "## Train test split"
   ]
  },
  {
   "cell_type": "code",
   "execution_count": null,
   "metadata": {},
   "outputs": [],
   "source": [
    "X_train, X_test = hf.data_split(df_blockchain)"
   ]
  },
  {
   "cell_type": "markdown",
   "metadata": {},
   "source": [
    "# Modeling with ARIMA\n",
    "In this section, you are to perform some classical modelings, the suggested method here is ARIMA, but you can try other models such as ARMA, ARIMAX, SARIMAX..."
   ]
  },
  {
   "cell_type": "markdown",
   "metadata": {},
   "source": [
    "## Modeling\n",
    "The following code allows ARIMA modeling with one combination of (p,d,q)."
   ]
  },
  {
   "cell_type": "code",
   "execution_count": null,
   "metadata": {},
   "outputs": [],
   "source": [
    "#If you need information about the function, you can display the docstring\n",
    "hf.evaluate_arima_model?"
   ]
  },
  {
   "cell_type": "code",
   "execution_count": null,
   "metadata": {},
   "outputs": [],
   "source": [
    "parameters = (2,1,1)\n",
    "errors, predictions = hf.evaluate_arima_model(X_train[\"market-price\"], \n",
    "                                              X_test[\"market-price\"], parameters )\n",
    "errors"
   ]
  },
  {
   "cell_type": "markdown",
   "metadata": {},
   "source": [
    "## Search for the best ARIMA model\n",
    "We use grid search to search for the best ARIMA parameters that gives the lowest error. This follows the Box-Jenkins methology."
   ]
  },
  {
   "cell_type": "code",
   "execution_count": null,
   "metadata": {},
   "outputs": [],
   "source": [
    "best_cfg, best_score = hf.arima_grid_search(X_train[\"market-price\"], \n",
    "                                            X_test[\"market-price\"],\n",
    "                                            np.arange(1,3), np.arange(3), np.arange(3))"
   ]
  },
  {
   "cell_type": "markdown",
   "metadata": {},
   "source": [
    "## Visualization\n",
    "To have a better view on the difference between true and predict values, we visualize them by plotting both the signals."
   ]
  },
  {
   "cell_type": "code",
   "execution_count": null,
   "metadata": {},
   "outputs": [],
   "source": [
    "# prepare the dataset for plotting\n",
    "predict_date = df_blockchain.iloc[-30::][\"Date\"]\n",
    "df_predict = pd.DataFrame(zip(predict_date,\n",
    "                              predictions, X_test[\"market-price\"].values),\n",
    "                          columns=[\"date\", \"predict\", \"true\"])"
   ]
  },
  {
   "cell_type": "code",
   "execution_count": null,
   "metadata": {},
   "outputs": [],
   "source": [
    "fig, ax = plt.subplots(figsize=(8,4))\n",
    "\n",
    "sns.lineplot(x=\"date\", y=\"true\", data=df_predict, \n",
    "             ax=ax, label=\"y_true\", markers=True )\n",
    "plot_ = sns.lineplot(x=\"date\",\n",
    "             y=\"predict\",\n",
    "             data=df_predict,\n",
    "             color=\"red\",ax=ax, label=\"y_predict\")\n",
    "plot_.lines[1].set_linestyle(\"--\")\n",
    "new_ticks = plot_.get_xticklabels()\n",
    "freq = 4\n",
    "ax.set_xticks(np.arange(0, len(new_ticks), freq))\n",
    "labels = predict_date[::freq]\n",
    "ax.set_xticklabels(labels)\n",
    "ax.set_ylabel(\"Bitcoin Market Price [USD]\")\n",
    "ax.set_xlabel(\"Test date\")\n",
    "ax.set_title(f\"Model ARIMA{parameters}\")\n",
    "sns.despine()\n",
    "plt.legend()\n",
    "plt.tight_layout()\n"
   ]
  },
  {
   "cell_type": "code",
   "execution_count": null,
   "metadata": {},
   "outputs": [],
   "source": []
  }
 ],
 "metadata": {
  "kernelspec": {
   "display_name": "mds_env2",
   "language": "python",
   "name": "mds_env2"
  },
  "language_info": {
   "codemirror_mode": {
    "name": "ipython",
    "version": 3
   },
   "file_extension": ".py",
   "mimetype": "text/x-python",
   "name": "python",
   "nbconvert_exporter": "python",
   "pygments_lexer": "ipython3",
   "version": "3.7.10"
  },
  "toc": {
   "base_numbering": 1,
   "nav_menu": {},
   "number_sections": true,
   "sideBar": true,
   "skip_h1_title": false,
   "title_cell": "Table of Contents",
   "title_sidebar": "Contents",
   "toc_cell": false,
   "toc_position": {},
   "toc_section_display": true,
   "toc_window_display": false
  }
 },
 "nbformat": 4,
 "nbformat_minor": 2
}
