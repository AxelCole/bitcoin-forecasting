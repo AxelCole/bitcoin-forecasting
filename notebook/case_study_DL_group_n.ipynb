{
 "cells": [
  {
   "cell_type": "code",
   "execution_count": 2,
   "metadata": {},
   "outputs": [
    {
     "name": "stderr",
     "output_type": "stream",
     "text": [
      "Using TensorFlow backend.\n"
     ]
    }
   ],
   "source": [
    "import os\n",
    "\n",
    "import numpy as np\n",
    "import pandas as pd\n",
    "\n",
    "from matplotlib import pyplot as plt\n",
    "\n",
    "from keras.models import Sequential\n",
    "from keras.layers import Dense, LSTM\n",
    "from sklearn.preprocessing import MinMaxScaler\n",
    "\n",
    "CURDIR = os.path.dirname(os.getcwd())\n",
    "DATADIR = os.path.join(CURDIR,  \"data\")\n",
    "FIGDIR = os.path.join(CURDIR,  \"figure\")\n",
    "%matplotlib inline"
   ]
  },
  {
   "cell_type": "markdown",
   "metadata": {},
   "source": [
    "# Import Dataset"
   ]
  },
  {
   "cell_type": "code",
   "execution_count": 3,
   "metadata": {},
   "outputs": [],
   "source": [
    "# Import the dataset\n",
    "df_blockchain = pd.read_csv(os.path.join(DATADIR, \"df_blockchain.csv\"), delimiter=\";\")\n",
    "dataset = df_blockchain['market-price']"
   ]
  },
  {
   "cell_type": "markdown",
   "metadata": {},
   "source": [
    "# Data scaling\n",
    "here we scale price between 0 and 1\n"
   ]
  },
  {
   "cell_type": "code",
   "execution_count": 4,
   "metadata": {},
   "outputs": [],
   "source": [
    "scaler = MinMaxScaler(feature_range=(0, 1))\n",
    "dataset = scaler.fit_transform(dataset.values.reshape(-1,1))"
   ]
  },
  {
   "cell_type": "markdown",
   "metadata": {},
   "source": [
    "# Split Data\n",
    "\n",
    "split data into train/valid/test set as follow :\n",
    "\n",
    "- test set size : rnn_size + predicition_days(30)\n",
    "- train set size : 80% of the rest\n",
    "- valid set size : he rest"
   ]
  },
  {
   "cell_type": "code",
   "execution_count": 56,
   "metadata": {},
   "outputs": [],
   "source": [
    "# split data\n",
    "prediction_days = 30\n",
    "rnn_size = 5\n",
    "\n",
    "# Your Code Here\n",
    "test_size = \n",
    "train_size = \n",
    "valid_size = \n",
    "\n",
    "\n",
    "data_train = \n",
    "data_valid = \n",
    "data_test = "
   ]
  },
  {
   "cell_type": "markdown",
   "metadata": {},
   "source": [
    "# Process data\n",
    "here we process data before training"
   ]
  },
  {
   "cell_type": "code",
   "execution_count": 57,
   "metadata": {},
   "outputs": [],
   "source": [
    "def process_data(data, rnn_size=rnn_size):\n",
    "    X = []\n",
    "    y = []\n",
    "    for i in range(len(data)-rnn_size):\n",
    "        X.append(data[i:i+rnn_size])\n",
    "        y.append(data[i+rnn_size])\n",
    "    return np.array(X).astype(np.float32).reshape((-1,rnn_size,1)), np.array(y).astype(np.float32)"
   ]
  },
  {
   "cell_type": "code",
   "execution_count": 58,
   "metadata": {},
   "outputs": [],
   "source": [
    "# process data for RNN\n",
    "X_train, y_train = process_data(data_train)\n",
    "X_val, y_val = process_data(data_valid)\n",
    "X_test, y_test = process_data(data_test)"
   ]
  },
  {
   "cell_type": "markdown",
   "metadata": {},
   "source": [
    "# Deep Learning Model\n",
    "\n",
    "here we initialize the model using Keras"
   ]
  },
  {
   "cell_type": "code",
   "execution_count": 64,
   "metadata": {},
   "outputs": [],
   "source": [
    "# neural network model\n",
    "\n",
    "# Initialising the model\n",
    "regressor = Sequential()\n",
    "\n",
    "# Adding the input/LSTM layer\n",
    "#Your Code Here\n",
    "\n",
    "# Adding the output layer\n",
    "#Your Code Here\n",
    "\n",
    "#Compiling the neural network with adam optimizer and 'mean_absolute_error' for loss function\n",
    "#Your Code Here"
   ]
  },
  {
   "cell_type": "code",
   "execution_count": 65,
   "metadata": {
    "scrolled": true
   },
   "outputs": [
    {
     "name": "stdout",
     "output_type": "stream",
     "text": [
      "Train on 2507 samples, validate on 623 samples\n",
      "Epoch 1/50\n",
      "2507/2507 [==============================] - 1s 384us/step - loss: 0.0962 - val_loss: 0.2483\n",
      "Epoch 2/50\n",
      "2507/2507 [==============================] - 1s 241us/step - loss: 0.0491 - val_loss: 0.1217\n",
      "Epoch 3/50\n",
      "2507/2507 [==============================] - 1s 235us/step - loss: 0.0323 - val_loss: 0.0667\n",
      "Epoch 4/50\n",
      "2507/2507 [==============================] - 0s 196us/step - loss: 0.0336 - val_loss: 0.0157\n",
      "Epoch 5/50\n",
      "2507/2507 [==============================] - 1s 203us/step - loss: 0.0226 - val_loss: 0.0102\n",
      "Epoch 6/50\n",
      "2507/2507 [==============================] - 1s 209us/step - loss: 0.0163 - val_loss: 0.0101\n",
      "Epoch 7/50\n",
      "2507/2507 [==============================] - 1s 202us/step - loss: 0.0163 - val_loss: 0.0270\n",
      "Epoch 8/50\n",
      "2507/2507 [==============================] - 0s 195us/step - loss: 0.0231 - val_loss: 0.0329\n",
      "Epoch 9/50\n",
      "2507/2507 [==============================] - 0s 184us/step - loss: 0.0219 - val_loss: 0.0307\n",
      "Epoch 10/50\n",
      "2507/2507 [==============================] - 1s 214us/step - loss: 0.0141 - val_loss: 0.0114\n",
      "Epoch 11/50\n",
      "2507/2507 [==============================] - 1s 208us/step - loss: 0.0148 - val_loss: 0.0130\n",
      "Epoch 12/50\n",
      "2507/2507 [==============================] - 1s 206us/step - loss: 0.0122 - val_loss: 0.0438\n",
      "Epoch 13/50\n",
      "2507/2507 [==============================] - 1s 213us/step - loss: 0.0195 - val_loss: 0.0236\n",
      "Epoch 14/50\n",
      "2507/2507 [==============================] - 1s 207us/step - loss: 0.0150 - val_loss: 0.0257\n",
      "Epoch 15/50\n",
      "2507/2507 [==============================] - 0s 198us/step - loss: 0.0131 - val_loss: 0.0231\n",
      "Epoch 16/50\n",
      "2507/2507 [==============================] - 1s 230us/step - loss: 0.0126 - val_loss: 0.0098\n",
      "Epoch 17/50\n",
      "2507/2507 [==============================] - 1s 255us/step - loss: 0.0107 - val_loss: 0.0255\n",
      "Epoch 18/50\n",
      "2507/2507 [==============================] - 1s 220us/step - loss: 0.0108 - val_loss: 0.0210\n",
      "Epoch 19/50\n",
      "2507/2507 [==============================] - 1s 224us/step - loss: 0.0109 - val_loss: 0.0147\n",
      "Epoch 20/50\n",
      "2507/2507 [==============================] - 1s 214us/step - loss: 0.0103 - val_loss: 0.0161\n",
      "Epoch 21/50\n",
      "2507/2507 [==============================] - 1s 217us/step - loss: 0.0151 - val_loss: 0.0153\n",
      "Epoch 22/50\n",
      "2507/2507 [==============================] - 1s 221us/step - loss: 0.0161 - val_loss: 0.0129\n",
      "Epoch 23/50\n",
      "2507/2507 [==============================] - 1s 246us/step - loss: 0.0192 - val_loss: 0.0187\n",
      "Epoch 24/50\n",
      "2507/2507 [==============================] - 1s 238us/step - loss: 0.0171 - val_loss: 0.0104\n",
      "Epoch 25/50\n",
      "2507/2507 [==============================] - 0s 193us/step - loss: 0.0123 - val_loss: 0.0102\n",
      "Epoch 26/50\n",
      "2507/2507 [==============================] - 1s 204us/step - loss: 0.0122 - val_loss: 0.0098\n",
      "Epoch 27/50\n",
      "2507/2507 [==============================] - 1s 211us/step - loss: 0.0087 - val_loss: 0.0187\n",
      "Epoch 28/50\n",
      "2507/2507 [==============================] - 1s 292us/step - loss: 0.0167 - val_loss: 0.0114\n",
      "Epoch 29/50\n",
      "2507/2507 [==============================] - 1s 204us/step - loss: 0.0112 - val_loss: 0.0133\n",
      "Epoch 30/50\n",
      "2507/2507 [==============================] - 1s 251us/step - loss: 0.0108 - val_loss: 0.0358\n",
      "Epoch 31/50\n",
      "2507/2507 [==============================] - 1s 216us/step - loss: 0.0138 - val_loss: 0.0149\n",
      "Epoch 32/50\n",
      "2507/2507 [==============================] - 1s 213us/step - loss: 0.0139 - val_loss: 0.0249\n",
      "Epoch 33/50\n",
      "2507/2507 [==============================] - 1s 200us/step - loss: 0.0166 - val_loss: 0.0164\n",
      "Epoch 34/50\n",
      "2507/2507 [==============================] - 1s 235us/step - loss: 0.0137 - val_loss: 0.0370\n",
      "Epoch 35/50\n",
      "2507/2507 [==============================] - 1s 240us/step - loss: 0.0118 - val_loss: 0.0100\n",
      "Epoch 36/50\n",
      "2507/2507 [==============================] - 1s 222us/step - loss: 0.0102 - val_loss: 0.0117\n",
      "Epoch 37/50\n",
      "2507/2507 [==============================] - 1s 213us/step - loss: 0.0151 - val_loss: 0.0141\n",
      "Epoch 38/50\n",
      "2507/2507 [==============================] - 1s 304us/step - loss: 0.0155 - val_loss: 0.0099\n",
      "Epoch 39/50\n",
      "2507/2507 [==============================] - 1s 218us/step - loss: 0.0119 - val_loss: 0.0261\n",
      "Epoch 40/50\n",
      "2507/2507 [==============================] - 0s 194us/step - loss: 0.0142 - val_loss: 0.0117\n",
      "Epoch 41/50\n",
      "2507/2507 [==============================] - 1s 208us/step - loss: 0.0080 - val_loss: 0.0111\n",
      "Epoch 42/50\n",
      "2507/2507 [==============================] - 1s 283us/step - loss: 0.0099 - val_loss: 0.0101\n",
      "Epoch 43/50\n",
      "2507/2507 [==============================] - 1s 251us/step - loss: 0.0081 - val_loss: 0.0114\n",
      "Epoch 44/50\n",
      "2507/2507 [==============================] - 1s 222us/step - loss: 0.0096 - val_loss: 0.0120\n",
      "Epoch 45/50\n",
      "2507/2507 [==============================] - 1s 248us/step - loss: 0.0076 - val_loss: 0.0137\n",
      "Epoch 46/50\n",
      "2507/2507 [==============================] - 1s 240us/step - loss: 0.0144 - val_loss: 0.0134\n",
      "Epoch 47/50\n",
      "2507/2507 [==============================] - 1s 242us/step - loss: 0.0087 - val_loss: 0.0168\n",
      "Epoch 48/50\n",
      "2507/2507 [==============================] - 1s 281us/step - loss: 0.0135 - val_loss: 0.0108\n",
      "Epoch 49/50\n",
      "2507/2507 [==============================] - 1s 225us/step - loss: 0.0072 - val_loss: 0.0098\n",
      "Epoch 50/50\n",
      "2507/2507 [==============================] - 1s 242us/step - loss: 0.0086 - val_loss: 0.0097\n"
     ]
    },
    {
     "data": {
      "text/plain": [
       "<keras.callbacks.callbacks.History at 0x146312d50>"
      ]
     },
     "execution_count": 65,
     "metadata": {},
     "output_type": "execute_result"
    }
   ],
   "source": [
    "#Fitting the Recurrent Neural Network\n",
    "regressor.fit(X_train, y_train, validation_data = (X_val, y_val), batch_size = 32, epochs = 50)"
   ]
  },
  {
   "cell_type": "markdown",
   "metadata": {},
   "source": [
    "# Evaluation"
   ]
  },
  {
   "cell_type": "code",
   "execution_count": 66,
   "metadata": {},
   "outputs": [
    {
     "name": "stdout",
     "output_type": "stream",
     "text": [
      "\r",
      "25/25 [==============================] - 0s 279us/step\n"
     ]
    },
    {
     "data": {
      "text/plain": [
       "0.014129127375781536"
      ]
     },
     "execution_count": 66,
     "metadata": {},
     "output_type": "execute_result"
    }
   ],
   "source": [
    "# compute mae score for test set\n"
   ]
  },
  {
   "cell_type": "code",
   "execution_count": 85,
   "metadata": {},
   "outputs": [],
   "source": [
    "# compute preditcion for test set \n",
    "y_pred = "
   ]
  },
  {
   "cell_type": "code",
   "execution_count": 81,
   "metadata": {},
   "outputs": [],
   "source": [
    "# inverse scaling\n",
    "y_test_inverse = scaler.inverse_transform(y_test.reshape(-1,1))\n",
    "y_pred_inverse = scaler.inverse_transform(y_pred.reshape(-1,1))"
   ]
  },
  {
   "cell_type": "code",
   "execution_count": 84,
   "metadata": {},
   "outputs": [
    {
     "data": {
      "image/png": "[encoded data removed]",
      "text/plain": [
       "<Figure size 432x288 with 1 Axes>"
      ]
     },
     "metadata": {
      "needs_background": "light"
     },
     "output_type": "display_data"
    }
   ],
   "source": [
    "#Graphs for predicted values\n",
    "plt.plot(y_test_inverse, color = 'red', label = 'true BTC Value')\n",
    "plt.plot(y_pred_inverse, color = 'blue', label = 'predicted BTC Value')\n",
    "plt.title('BTC Value Prediction')\n",
    "plt.xlabel('Days')\n",
    "plt.ylabel('BTC Value')\n",
    "plt.legend()\n",
    "plt.show()"
   ]
  },
  {
   "cell_type": "code",
   "execution_count": null,
   "metadata": {},
   "outputs": [],
   "source": []
  }
 ],
 "metadata": {
  "kernelspec": {
   "display_name": "venv",
   "language": "python",
   "name": "venv"
  },
  "language_info": {
   "codemirror_mode": {
    "name": "ipython",
    "version": 3
   },
   "file_extension": ".py",
   "mimetype": "text/x-python",
   "name": "python",
   "nbconvert_exporter": "python",
   "pygments_lexer": "ipython3",
   "version": "3.7.4"
  }
 },
 "nbformat": 4,
 "nbformat_minor": 2
}
